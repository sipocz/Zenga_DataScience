{
  "nbformat": 4,
  "nbformat_minor": 0,
  "metadata": {
    "colab": {
      "provenance": [],
      "authorship_tag": "ABX9TyOJ77DF3DgymD7lARfKchIT",
      "include_colab_link": true
    },
    "kernelspec": {
      "name": "python3",
      "display_name": "Python 3"
    },
    "language_info": {
      "name": "python"
    }
  },
  "cells": [
    {
      "cell_type": "markdown",
      "metadata": {
        "id": "view-in-github",
        "colab_type": "text"
      },
      "source": [
        "<a href=\"https://colab.research.google.com/github/sipocz/Zenga_DataScience/blob/main/Zenga_download.ipynb\" target=\"_parent\"><img src=\"https://colab.research.google.com/assets/colab-badge.svg\" alt=\"Open In Colab\"/></a>"
      ]
    },
    {
      "cell_type": "code",
      "execution_count": 1,
      "metadata": {
        "colab": {
          "base_uri": "https://localhost:8080/"
        },
        "id": "PjvBX7hU2-Cx",
        "outputId": "c7d0e533-c5b0-4aed-dfb0-a4e4117c6ea3"
      },
      "outputs": [
        {
          "output_type": "stream",
          "name": "stdout",
          "text": [
            "\u001b[2K   \u001b[90m━━━━━━━━━━━━━━━━━━━━━━━━━━━━━━━━━━━━━━━━\u001b[0m \u001b[32m45.8/45.8 MB\u001b[0m \u001b[31m15.1 MB/s\u001b[0m eta \u001b[36m0:00:00\u001b[0m\n",
            "\u001b[?25hDownloading Chromium 138.0.7204.23 (playwright build v1179)\u001b[2m from https://cdn.playwright.dev/dbazure/download/playwright/builds/chromium/1179/chromium-linux.zip\u001b[22m\n",
            "\u001b[1G171.6 MiB [] 0% 0.0s\u001b[0K\u001b[1G171.6 MiB [] 0% 20.0s\u001b[0K\u001b[1G171.6 MiB [] 0% 12.2s\u001b[0K\u001b[1G171.6 MiB [] 0% 6.7s\u001b[0K\u001b[1G171.6 MiB [] 1% 5.3s\u001b[0K\u001b[1G171.6 MiB [] 1% 5.0s\u001b[0K\u001b[1G171.6 MiB [] 1% 4.8s\u001b[0K\u001b[1G171.6 MiB [] 2% 4.7s\u001b[0K\u001b[1G171.6 MiB [] 2% 4.2s\u001b[0K\u001b[1G171.6 MiB [] 3% 4.0s\u001b[0K\u001b[1G171.6 MiB [] 3% 3.9s\u001b[0K\u001b[1G171.6 MiB [] 4% 3.7s\u001b[0K\u001b[1G171.6 MiB [] 5% 3.6s\u001b[0K\u001b[1G171.6 MiB [] 5% 3.5s\u001b[0K\u001b[1G171.6 MiB [] 5% 3.8s\u001b[0K\u001b[1G171.6 MiB [] 6% 3.7s\u001b[0K\u001b[1G171.6 MiB [] 6% 3.8s\u001b[0K\u001b[1G171.6 MiB [] 7% 3.8s\u001b[0K\u001b[1G171.6 MiB [] 7% 3.7s\u001b[0K\u001b[1G171.6 MiB [] 8% 3.5s\u001b[0K\u001b[1G171.6 MiB [] 9% 3.5s\u001b[0K\u001b[1G171.6 MiB [] 10% 3.4s\u001b[0K\u001b[1G171.6 MiB [] 10% 3.3s\u001b[0K\u001b[1G171.6 MiB [] 11% 3.2s\u001b[0K\u001b[1G171.6 MiB [] 13% 3.0s\u001b[0K\u001b[1G171.6 MiB [] 13% 2.9s\u001b[0K\u001b[1G171.6 MiB [] 14% 2.9s\u001b[0K\u001b[1G171.6 MiB [] 15% 2.7s\u001b[0K\u001b[1G171.6 MiB [] 16% 2.6s\u001b[0K\u001b[1G171.6 MiB [] 17% 2.5s\u001b[0K\u001b[1G171.6 MiB [] 18% 2.4s\u001b[0K\u001b[1G171.6 MiB [] 19% 2.3s\u001b[0K\u001b[1G171.6 MiB [] 21% 2.2s\u001b[0K\u001b[1G171.6 MiB [] 21% 2.1s\u001b[0K\u001b[1G171.6 MiB [] 23% 2.0s\u001b[0K\u001b[1G171.6 MiB [] 24% 2.0s\u001b[0K\u001b[1G171.6 MiB [] 25% 1.9s\u001b[0K\u001b[1G171.6 MiB [] 26% 1.8s\u001b[0K\u001b[1G171.6 MiB [] 26% 1.9s\u001b[0K\u001b[1G171.6 MiB [] 26% 2.0s\u001b[0K\u001b[1G171.6 MiB [] 29% 1.8s\u001b[0K\u001b[1G171.6 MiB [] 30% 1.7s\u001b[0K\u001b[1G171.6 MiB [] 32% 1.6s\u001b[0K\u001b[1G171.6 MiB [] 33% 1.6s\u001b[0K\u001b[1G171.6 MiB [] 34% 1.5s\u001b[0K\u001b[1G171.6 MiB [] 35% 1.5s\u001b[0K\u001b[1G171.6 MiB [] 37% 1.4s\u001b[0K\u001b[1G171.6 MiB [] 38% 1.4s\u001b[0K\u001b[1G171.6 MiB [] 39% 1.3s\u001b[0K\u001b[1G171.6 MiB [] 40% 1.3s\u001b[0K\u001b[1G171.6 MiB [] 42% 1.2s\u001b[0K\u001b[1G171.6 MiB [] 43% 1.2s\u001b[0K\u001b[1G171.6 MiB [] 44% 1.1s\u001b[0K\u001b[1G171.6 MiB [] 46% 1.1s\u001b[0K\u001b[1G171.6 MiB [] 47% 1.1s\u001b[0K\u001b[1G171.6 MiB [] 48% 1.0s\u001b[0K\u001b[1G171.6 MiB [] 49% 1.0s\u001b[0K\u001b[1G171.6 MiB [] 51% 1.0s\u001b[0K\u001b[1G171.6 MiB [] 52% 0.9s\u001b[0K\u001b[1G171.6 MiB [] 53% 0.9s\u001b[0K\u001b[1G171.6 MiB [] 55% 0.9s\u001b[0K\u001b[1G171.6 MiB [] 56% 0.8s\u001b[0K\u001b[1G171.6 MiB [] 57% 0.8s\u001b[0K\u001b[1G171.6 MiB [] 58% 0.8s\u001b[0K\u001b[1G171.6 MiB [] 59% 0.8s\u001b[0K\u001b[1G171.6 MiB [] 60% 0.8s\u001b[0K\u001b[1G171.6 MiB [] 61% 0.7s\u001b[0K\u001b[1G171.6 MiB [] 62% 0.7s\u001b[0K\u001b[1G171.6 MiB [] 63% 0.7s\u001b[0K\u001b[1G171.6 MiB [] 64% 0.7s\u001b[0K\u001b[1G171.6 MiB [] 65% 0.7s\u001b[0K\u001b[1G171.6 MiB [] 66% 0.7s\u001b[0K\u001b[1G171.6 MiB [] 66% 0.6s\u001b[0K\u001b[1G171.6 MiB [] 67% 0.6s\u001b[0K\u001b[1G171.6 MiB [] 68% 0.6s\u001b[0K\u001b[1G171.6 MiB [] 69% 0.6s\u001b[0K\u001b[1G171.6 MiB [] 71% 0.6s\u001b[0K\u001b[1G171.6 MiB [] 72% 0.5s\u001b[0K\u001b[1G171.6 MiB [] 73% 0.5s\u001b[0K\u001b[1G171.6 MiB [] 75% 0.5s\u001b[0K\u001b[1G171.6 MiB [] 76% 0.4s\u001b[0K\u001b[1G171.6 MiB [] 77% 0.4s\u001b[0K\u001b[1G171.6 MiB [] 78% 0.4s\u001b[0K\u001b[1G171.6 MiB [] 80% 0.4s\u001b[0K\u001b[1G171.6 MiB [] 81% 0.3s\u001b[0K\u001b[1G171.6 MiB [] 82% 0.3s\u001b[0K\u001b[1G171.6 MiB [] 83% 0.3s\u001b[0K\u001b[1G171.6 MiB [] 85% 0.3s\u001b[0K\u001b[1G171.6 MiB [] 86% 0.2s\u001b[0K\u001b[1G171.6 MiB [] 87% 0.2s\u001b[0K\u001b[1G171.6 MiB [] 89% 0.2s\u001b[0K\u001b[1G171.6 MiB [] 90% 0.2s\u001b[0K\u001b[1G171.6 MiB [] 91% 0.1s\u001b[0K\u001b[1G171.6 MiB [] 92% 0.1s\u001b[0K\u001b[1G171.6 MiB [] 94% 0.1s\u001b[0K\u001b[1G171.6 MiB [] 95% 0.1s\u001b[0K\u001b[1G171.6 MiB [] 96% 0.1s\u001b[0K\u001b[1G171.6 MiB [] 97% 0.0s\u001b[0K\u001b[1G171.6 MiB [] 99% 0.0s\u001b[0K\u001b[1G171.6 MiB [] 100% 0.0s\u001b[0K\n",
            "Chromium 138.0.7204.23 (playwright build v1179) downloaded to /root/.cache/ms-playwright/chromium-1179\n",
            "Downloading FFMPEG playwright build v1011\u001b[2m from https://cdn.playwright.dev/dbazure/download/playwright/builds/ffmpeg/1011/ffmpeg-linux.zip\u001b[22m\n",
            "\u001b[1G2.3 MiB [] 0% 0.0s\u001b[0K\u001b[1G2.3 MiB [] 4% 0.4s\u001b[0K\u001b[1G2.3 MiB [] 15% 0.2s\u001b[0K\u001b[1G2.3 MiB [] 53% 0.0s\u001b[0K\u001b[1G2.3 MiB [] 100% 0.0s\u001b[0K\n",
            "FFMPEG playwright build v1011 downloaded to /root/.cache/ms-playwright/ffmpeg-1011\n",
            "Downloading Chromium Headless Shell 138.0.7204.23 (playwright build v1179)\u001b[2m from https://cdn.playwright.dev/dbazure/download/playwright/builds/chromium/1179/chromium-headless-shell-linux.zip\u001b[22m\n",
            "\u001b[1G104.5 MiB [] 0% 0.0s\u001b[0K\u001b[1G104.5 MiB [] 0% 19.1s\u001b[0K\u001b[1G104.5 MiB [] 0% 10.2s\u001b[0K\u001b[1G104.5 MiB [] 1% 4.4s\u001b[0K\u001b[1G104.5 MiB [] 2% 2.9s\u001b[0K\u001b[1G104.5 MiB [] 3% 2.3s\u001b[0K\u001b[1G104.5 MiB [] 5% 1.8s\u001b[0K\u001b[1G104.5 MiB [] 6% 1.7s\u001b[0K\u001b[1G104.5 MiB [] 7% 1.6s\u001b[0K\u001b[1G104.5 MiB [] 8% 1.5s\u001b[0K\u001b[1G104.5 MiB [] 9% 1.7s\u001b[0K\u001b[1G104.5 MiB [] 10% 1.6s\u001b[0K\u001b[1G104.5 MiB [] 11% 1.5s\u001b[0K\u001b[1G104.5 MiB [] 12% 1.5s\u001b[0K\u001b[1G104.5 MiB [] 13% 1.5s\u001b[0K\u001b[1G104.5 MiB [] 14% 1.5s\u001b[0K\u001b[1G104.5 MiB [] 15% 1.5s\u001b[0K\u001b[1G104.5 MiB [] 17% 1.4s\u001b[0K\u001b[1G104.5 MiB [] 19% 1.3s\u001b[0K\u001b[1G104.5 MiB [] 20% 1.3s\u001b[0K\u001b[1G104.5 MiB [] 22% 1.2s\u001b[0K\u001b[1G104.5 MiB [] 23% 1.2s\u001b[0K\u001b[1G104.5 MiB [] 25% 1.1s\u001b[0K\u001b[1G104.5 MiB [] 27% 1.1s\u001b[0K\u001b[1G104.5 MiB [] 29% 1.0s\u001b[0K\u001b[1G104.5 MiB [] 31% 1.0s\u001b[0K\u001b[1G104.5 MiB [] 33% 0.9s\u001b[0K\u001b[1G104.5 MiB [] 34% 0.9s\u001b[0K\u001b[1G104.5 MiB [] 36% 0.8s\u001b[0K\u001b[1G104.5 MiB [] 37% 0.8s\u001b[0K\u001b[1G104.5 MiB [] 40% 0.8s\u001b[0K\u001b[1G104.5 MiB [] 42% 0.7s\u001b[0K\u001b[1G104.5 MiB [] 43% 0.7s\u001b[0K\u001b[1G104.5 MiB [] 45% 0.7s\u001b[0K\u001b[1G104.5 MiB [] 47% 0.7s\u001b[0K\u001b[1G104.5 MiB [] 49% 0.6s\u001b[0K\u001b[1G104.5 MiB [] 51% 0.6s\u001b[0K\u001b[1G104.5 MiB [] 54% 0.5s\u001b[0K\u001b[1G104.5 MiB [] 56% 0.5s\u001b[0K\u001b[1G104.5 MiB [] 58% 0.5s\u001b[0K\u001b[1G104.5 MiB [] 60% 0.5s\u001b[0K\u001b[1G104.5 MiB [] 62% 0.4s\u001b[0K\u001b[1G104.5 MiB [] 65% 0.4s\u001b[0K\u001b[1G104.5 MiB [] 66% 0.4s\u001b[0K\u001b[1G104.5 MiB [] 68% 0.3s\u001b[0K\u001b[1G104.5 MiB [] 70% 0.3s\u001b[0K\u001b[1G104.5 MiB [] 73% 0.3s\u001b[0K\u001b[1G104.5 MiB [] 75% 0.3s\u001b[0K\u001b[1G104.5 MiB [] 77% 0.2s\u001b[0K\u001b[1G104.5 MiB [] 79% 0.2s\u001b[0K\u001b[1G104.5 MiB [] 82% 0.2s\u001b[0K\u001b[1G104.5 MiB [] 83% 0.2s\u001b[0K\u001b[1G104.5 MiB [] 86% 0.1s\u001b[0K\u001b[1G104.5 MiB [] 88% 0.1s\u001b[0K\u001b[1G104.5 MiB [] 90% 0.1s\u001b[0K\u001b[1G104.5 MiB [] 92% 0.1s\u001b[0K\u001b[1G104.5 MiB [] 94% 0.1s\u001b[0K\u001b[1G104.5 MiB [] 95% 0.0s\u001b[0K\u001b[1G104.5 MiB [] 97% 0.0s\u001b[0K\u001b[1G104.5 MiB [] 99% 0.0s\u001b[0K\u001b[1G104.5 MiB [] 100% 0.0s\u001b[0K\n",
            "Chromium Headless Shell 138.0.7204.23 (playwright build v1179) downloaded to /root/.cache/ms-playwright/chromium_headless_shell-1179\n"
          ]
        }
      ],
      "source": [
        "!pip install -q playwright nest_asyncio\n",
        "!playwright install chromium"
      ]
    },
    {
      "cell_type": "code",
      "source": [
        "import nest_asyncio\n",
        "import asyncio\n",
        "from playwright.async_api import async_playwright\n",
        "\n",
        "nest_asyncio.apply()\n",
        "\n",
        "async def scrape_zenga_links():\n",
        "    base_url = \"https://www.zenga.hu\"\n",
        "    start_url = \"https://www.zenga.hu/komarom-esztergom-megye+elado+haz?page=2\"\n",
        "    links = []\n",
        "\n",
        "    async with async_playwright() as p:\n",
        "        browser = await p.chromium.launch(headless=True)  # <-- EZT JAVÍTOTTUK\n",
        "        page = await browser.new_page()\n",
        "        await page.goto(start_url)\n",
        "        await page.wait_for_timeout(8000)\n",
        "\n",
        "        # Scroll, hogy több kártya betöltődjön\n",
        "        await page.mouse.wheel(0, 5000)\n",
        "        await page.wait_for_timeout(3000)\n",
        "\n",
        "        ad_links = await page.query_selector_all(\"a[data-cy='advert-card-link']\")\n",
        "        print(f\"Talált linkek száma: {len(ad_links)}\")\n",
        "\n",
        "        for a in ad_links:\n",
        "            href = await a.get_attribute(\"href\")\n",
        "            if href:\n",
        "                links.append(base_url + href)\n",
        "\n",
        "        await browser.close()\n",
        "        return links\n",
        "\n",
        "# Futtatás\n",
        "zenga_links = await scrape_zenga_links()\n",
        "\n",
        "# Kiírás\n",
        "for i, link in enumerate(zenga_links, 1):\n",
        "    print(f\"{i}. {link}\")\n"
      ],
      "metadata": {
        "colab": {
          "base_uri": "https://localhost:8080/"
        },
        "id": "rMNz1W8j4iyM",
        "outputId": "d895aa82-84f4-4fcb-8065-aeb45f20325d"
      },
      "execution_count": 2,
      "outputs": [
        {
          "output_type": "stream",
          "name": "stdout",
          "text": [
            "Talált linkek száma: 20\n",
            "1. https://www.zenga.hu/ingatlan/elado-csaladi-haz-babolna/8631699?page=2&pos=1&cr=31\n",
            "2. https://www.zenga.hu/ingatlan/elado-csaladi-haz-sutto/8617466?page=2&pos=2&cr=31\n",
            "3. https://www.zenga.hu/ingatlan/elado-ikerhaz-esztergom/8626642?page=2&pos=3&cr=31\n",
            "4. https://www.zenga.hu/ingatlan/elado-csaladi-haz-tatabanya-banhida/8325162?page=2&pos=4&cr=31\n",
            "5. https://www.zenga.hu/ingatlan/elado-csaladi-haz-tata/8622219?page=2&pos=5&cr=31\n",
            "6. https://www.zenga.hu/ingatlan/elado-csaladi-haz-labatlan/8617873?page=2&pos=6&cr=31\n",
            "7. https://www.zenga.hu/ingatlan/elado-csaladi-haz-uny/8618722?page=2&pos=7&cr=31\n",
            "8. https://www.zenga.hu/ingatlan/elado-csaladi-haz-sarisap/8617736?page=2&pos=8&cr=31\n",
            "9. https://www.zenga.hu/ingatlan/elado-csaladi-haz-domos/8618381?page=2&pos=9&cr=31\n",
            "10. https://www.zenga.hu/ingatlan/elado-csaladi-haz-esztergom/8615925?page=2&pos=10&cr=31\n",
            "11. https://www.zenga.hu/ingatlan/elado-csaladi-haz-annavolgy/8616546?page=2&pos=11&cr=31\n",
            "12. https://www.zenga.hu/ingatlan/elado-csaladi-haz-tatabanya-felsogalla/8631955?page=2&pos=12&cr=30\n",
            "13. https://www.zenga.hu/ingatlan/elado-csaladi-haz-leanyvar/8548382?page=2&pos=13&cr=30\n",
            "14. https://www.zenga.hu/ingatlan/elado-csaladi-haz-sarisap/8548406?page=2&pos=14&cr=30\n",
            "15. https://www.zenga.hu/ingatlan/elado-csaladi-haz-leanyvar/8548391?page=2&pos=15&cr=30\n",
            "16. https://www.zenga.hu/ingatlan/elado-csaladi-haz-sarisap/8591115?page=2&pos=16&cr=30\n",
            "17. https://www.zenga.hu/ingatlan/elado-csaladi-haz-kesztolc/8555004?page=2&pos=17&cr=30\n",
            "18. https://www.zenga.hu/ingatlan/elado-hazresz-esztergom/8550051?page=2&pos=18&cr=30\n",
            "19. https://www.zenga.hu/ingatlan/elado-csaladi-haz-sarisap/8561358?page=2&pos=19&cr=30\n",
            "20. https://www.zenga.hu/ingatlan/elado-csaladi-haz-tat/8548404?page=2&pos=20&cr=30\n"
          ]
        }
      ]
    },
    {
      "cell_type": "code",
      "source": [
        "from playwright.async_api import async_playwright\n",
        "import pandas as pd\n",
        "\n",
        "# Az előzőleg megszerzett hirdetési linkek\n",
        "links = [\n",
        "    \"https://www.zenga.hu/ingatlan/elado-csaladi-haz-babolna/8631699?page=2&pos=1&cr=31\"\n",
        "\n",
        "]\n",
        "\n",
        "# Szövegek kigyűjtése a linkekről\n",
        "async def scrape_ad_texts(links):\n",
        "    results = []\n",
        "    async with async_playwright() as p:\n",
        "        browser = await p.chromium.launch(headless=True)\n",
        "        page = await browser.new_page()\n",
        "\n",
        "        print(f\"Scraping {len(links)} links...\")\n",
        "        for url in links:\n",
        "            try:\n",
        "                print(f\"🔗 {url}\")\n",
        "                await page.goto(url, timeout=20000)\n",
        "                try:\n",
        "                    await page.get_by_text(\"Összes süti engedélyezése\").click()\n",
        "                    print(\"✅ Süti elfogadva\")\n",
        "                except:\n",
        "                    print(\"ℹ️ Süti gomb nem jelent meg\")\n",
        "\n",
        "\n",
        "                await page.wait_for_timeout(4000)\n",
        "                await page.screenshot(path=\"screenshot.png\")\n",
        "                desc_element = await page.query_selector(\"span[data-cy='advert-details-description']\")\n",
        "                text = await desc_element.inner_text() if desc_element else \"Nincs szöveg\"\n",
        "                print(f\"✅ Szöveg: {text} \")\n",
        "                results.append({\"url\": url, \"text\": text})\n",
        "            except Exception as e:\n",
        "                print(f\"⚠️ Hiba: {str(e)}\")\n",
        "                results.append({\"url\": url, \"text\": f\"Hiba: {str(e)}\"})\n",
        "\n",
        "        await browser.close()\n",
        "\n",
        "    return pd.DataFrame(results)\n",
        "\n",
        "\n",
        "\n",
        "#import ace_tools as tools; tools.display_dataframe_to_user(name=\"Hirdetés Szövegek\", dataframe=df)\n",
        "\n"
      ],
      "metadata": {
        "id": "YwAP7MKRBQJK"
      },
      "execution_count": 52,
      "outputs": []
    },
    {
      "cell_type": "code",
      "source": [
        "df = asyncio.run(scrape_ad_texts(links))"
      ],
      "metadata": {
        "colab": {
          "base_uri": "https://localhost:8080/"
        },
        "id": "ZFhEIUFhgUsw",
        "outputId": "987bdbb3-ca35-47d4-8ebf-37b9a4367546"
      },
      "execution_count": 53,
      "outputs": [
        {
          "output_type": "stream",
          "name": "stdout",
          "text": [
            "Scraping 1 links...\n",
            "🔗 https://www.zenga.hu/ingatlan/elado-csaladi-haz-babolna/8631699?page=2&pos=1&cr=31\n",
            "✅ Süti elfogadva\n",
            "✅ Szöveg: ENNYIÉRT ITT CSAK LAKÁST KAPSZ,VELÜNK HÁZAD LESZ!FEDETT, TÉRKÖVEZETT GÉPKOCSI BEÁLLÓTERASZ, KERT, KLÍMAIsmerd meg Bábolna új utcájában épülő korszerű otthonodat! A magas műszaki tartalom és  a praktikus élettér tökéletes harmóniáját kínálja, ahol minden egyedi igényedre figyelmet fordítunk. Kérj bármit, mindenre lesz megoldásunk.MIT TARTALMAZ A FŰTÉSKÉSZ ÁR?-63 m² lakótér, amit jól átgondolt elrendezés tesz élhetővé.-10 m² fedett terasz, ahol minden reggel új élmény.-550 m² privát kert, ami tökéletes a szabadtéri programokhoz.-Térkövezett, részben fedett gépkocsibeálló és térkövezett járda a maximális kényelemért.-Két szoba + nappali, hogy mindenki megtalálja a helyét.-1 db hűtő-fűtő klíma a nappaliban a kellemes hőmérsékletért.-Tervezés, engedélyezési eljárás.FŐBB MŰSZAKI TARTALOM:-Főfalak 30 cm, közfalak 10 cm vastagságú téglából.-20 cm szigetelés-Kerámia cserépfedés, színazonos bádogozással és ereszcsatornával.-Fehér színű 3 rétegű üvegezéssel ellátott műanyag nyílászárók redőnyelőkészítéssel.-Padlófűtés gázkazánnal.VÁLASZTHATÓ OPCIÓK:-Loxone okosotthon rendszer.-Napelem, elektromos autótöltő telepítés.-Kert -és kerítésépítés.-Kulcsrakész kivitelezés igényeid szerint.MIÉRT KÖLTÖZZ BÁBOLNÁRA?Kisvárosias hangulata tökéletes azoknak, akik csendes, barátságos lakóhelyet keresnek. A sok park, zöld övezet és jól kialakított utcák igazi otthonos érzést teremtenek, a település közössége támogató és összetartó, családbarát szolgáltatások és programok várják az itt élőket. A közlekedés az infrastruktúra kiváló, itt minden szolgáltatás karnyújtásnyira található.A szerződéskötéstől a hitelközvetítésen át a birtokbaadásig mindenben segítünk.Válaszd Bábolnát, ha fontos a nyugodt élet, a minőségi lakókörnyezet a kiváló lokáció és a modern lehetőségek kombinációja!HÍVJ! MUTATOM! \n"
          ]
        }
      ]
    },
    {
      "cell_type": "code",
      "source": [
        "df"
      ],
      "metadata": {
        "colab": {
          "base_uri": "https://localhost:8080/",
          "height": 89
        },
        "id": "cOW8YvTFf4qz",
        "outputId": "6b35aaf1-24f9-4b2f-f341-edc5c2de1f82"
      },
      "execution_count": 54,
      "outputs": [
        {
          "output_type": "execute_result",
          "data": {
            "text/plain": [
              "                                                 url  \\\n",
              "0  https://www.zenga.hu/ingatlan/elado-csaladi-ha...   \n",
              "\n",
              "                                                text  \n",
              "0  ENNYIÉRT ITT CSAK LAKÁST KAPSZ,VELÜNK HÁZAD LE...  "
            ],
            "text/html": [
              "\n",
              "  <div id=\"df-6b8b10cc-18de-4497-801f-f7f2a8896404\" class=\"colab-df-container\">\n",
              "    <div>\n",
              "<style scoped>\n",
              "    .dataframe tbody tr th:only-of-type {\n",
              "        vertical-align: middle;\n",
              "    }\n",
              "\n",
              "    .dataframe tbody tr th {\n",
              "        vertical-align: top;\n",
              "    }\n",
              "\n",
              "    .dataframe thead th {\n",
              "        text-align: right;\n",
              "    }\n",
              "</style>\n",
              "<table border=\"1\" class=\"dataframe\">\n",
              "  <thead>\n",
              "    <tr style=\"text-align: right;\">\n",
              "      <th></th>\n",
              "      <th>url</th>\n",
              "      <th>text</th>\n",
              "    </tr>\n",
              "  </thead>\n",
              "  <tbody>\n",
              "    <tr>\n",
              "      <th>0</th>\n",
              "      <td>https://www.zenga.hu/ingatlan/elado-csaladi-ha...</td>\n",
              "      <td>ENNYIÉRT ITT CSAK LAKÁST KAPSZ,VELÜNK HÁZAD LE...</td>\n",
              "    </tr>\n",
              "  </tbody>\n",
              "</table>\n",
              "</div>\n",
              "    <div class=\"colab-df-buttons\">\n",
              "\n",
              "  <div class=\"colab-df-container\">\n",
              "    <button class=\"colab-df-convert\" onclick=\"convertToInteractive('df-6b8b10cc-18de-4497-801f-f7f2a8896404')\"\n",
              "            title=\"Convert this dataframe to an interactive table.\"\n",
              "            style=\"display:none;\">\n",
              "\n",
              "  <svg xmlns=\"http://www.w3.org/2000/svg\" height=\"24px\" viewBox=\"0 -960 960 960\">\n",
              "    <path d=\"M120-120v-720h720v720H120Zm60-500h600v-160H180v160Zm220 220h160v-160H400v160Zm0 220h160v-160H400v160ZM180-400h160v-160H180v160Zm440 0h160v-160H620v160ZM180-180h160v-160H180v160Zm440 0h160v-160H620v160Z\"/>\n",
              "  </svg>\n",
              "    </button>\n",
              "\n",
              "  <style>\n",
              "    .colab-df-container {\n",
              "      display:flex;\n",
              "      gap: 12px;\n",
              "    }\n",
              "\n",
              "    .colab-df-convert {\n",
              "      background-color: #E8F0FE;\n",
              "      border: none;\n",
              "      border-radius: 50%;\n",
              "      cursor: pointer;\n",
              "      display: none;\n",
              "      fill: #1967D2;\n",
              "      height: 32px;\n",
              "      padding: 0 0 0 0;\n",
              "      width: 32px;\n",
              "    }\n",
              "\n",
              "    .colab-df-convert:hover {\n",
              "      background-color: #E2EBFA;\n",
              "      box-shadow: 0px 1px 2px rgba(60, 64, 67, 0.3), 0px 1px 3px 1px rgba(60, 64, 67, 0.15);\n",
              "      fill: #174EA6;\n",
              "    }\n",
              "\n",
              "    .colab-df-buttons div {\n",
              "      margin-bottom: 4px;\n",
              "    }\n",
              "\n",
              "    [theme=dark] .colab-df-convert {\n",
              "      background-color: #3B4455;\n",
              "      fill: #D2E3FC;\n",
              "    }\n",
              "\n",
              "    [theme=dark] .colab-df-convert:hover {\n",
              "      background-color: #434B5C;\n",
              "      box-shadow: 0px 1px 3px 1px rgba(0, 0, 0, 0.15);\n",
              "      filter: drop-shadow(0px 1px 2px rgba(0, 0, 0, 0.3));\n",
              "      fill: #FFFFFF;\n",
              "    }\n",
              "  </style>\n",
              "\n",
              "    <script>\n",
              "      const buttonEl =\n",
              "        document.querySelector('#df-6b8b10cc-18de-4497-801f-f7f2a8896404 button.colab-df-convert');\n",
              "      buttonEl.style.display =\n",
              "        google.colab.kernel.accessAllowed ? 'block' : 'none';\n",
              "\n",
              "      async function convertToInteractive(key) {\n",
              "        const element = document.querySelector('#df-6b8b10cc-18de-4497-801f-f7f2a8896404');\n",
              "        const dataTable =\n",
              "          await google.colab.kernel.invokeFunction('convertToInteractive',\n",
              "                                                    [key], {});\n",
              "        if (!dataTable) return;\n",
              "\n",
              "        const docLinkHtml = 'Like what you see? Visit the ' +\n",
              "          '<a target=\"_blank\" href=https://colab.research.google.com/notebooks/data_table.ipynb>data table notebook</a>'\n",
              "          + ' to learn more about interactive tables.';\n",
              "        element.innerHTML = '';\n",
              "        dataTable['output_type'] = 'display_data';\n",
              "        await google.colab.output.renderOutput(dataTable, element);\n",
              "        const docLink = document.createElement('div');\n",
              "        docLink.innerHTML = docLinkHtml;\n",
              "        element.appendChild(docLink);\n",
              "      }\n",
              "    </script>\n",
              "  </div>\n",
              "\n",
              "\n",
              "  <div id=\"id_ed3a1f13-790b-4a03-b0ad-85296dba1d26\">\n",
              "    <style>\n",
              "      .colab-df-generate {\n",
              "        background-color: #E8F0FE;\n",
              "        border: none;\n",
              "        border-radius: 50%;\n",
              "        cursor: pointer;\n",
              "        display: none;\n",
              "        fill: #1967D2;\n",
              "        height: 32px;\n",
              "        padding: 0 0 0 0;\n",
              "        width: 32px;\n",
              "      }\n",
              "\n",
              "      .colab-df-generate:hover {\n",
              "        background-color: #E2EBFA;\n",
              "        box-shadow: 0px 1px 2px rgba(60, 64, 67, 0.3), 0px 1px 3px 1px rgba(60, 64, 67, 0.15);\n",
              "        fill: #174EA6;\n",
              "      }\n",
              "\n",
              "      [theme=dark] .colab-df-generate {\n",
              "        background-color: #3B4455;\n",
              "        fill: #D2E3FC;\n",
              "      }\n",
              "\n",
              "      [theme=dark] .colab-df-generate:hover {\n",
              "        background-color: #434B5C;\n",
              "        box-shadow: 0px 1px 3px 1px rgba(0, 0, 0, 0.15);\n",
              "        filter: drop-shadow(0px 1px 2px rgba(0, 0, 0, 0.3));\n",
              "        fill: #FFFFFF;\n",
              "      }\n",
              "    </style>\n",
              "    <button class=\"colab-df-generate\" onclick=\"generateWithVariable('df')\"\n",
              "            title=\"Generate code using this dataframe.\"\n",
              "            style=\"display:none;\">\n",
              "\n",
              "  <svg xmlns=\"http://www.w3.org/2000/svg\" height=\"24px\"viewBox=\"0 0 24 24\"\n",
              "       width=\"24px\">\n",
              "    <path d=\"M7,19H8.4L18.45,9,17,7.55,7,17.6ZM5,21V16.75L18.45,3.32a2,2,0,0,1,2.83,0l1.4,1.43a1.91,1.91,0,0,1,.58,1.4,1.91,1.91,0,0,1-.58,1.4L9.25,21ZM18.45,9,17,7.55Zm-12,3A5.31,5.31,0,0,0,4.9,8.1,5.31,5.31,0,0,0,1,6.5,5.31,5.31,0,0,0,4.9,4.9,5.31,5.31,0,0,0,6.5,1,5.31,5.31,0,0,0,8.1,4.9,5.31,5.31,0,0,0,12,6.5,5.46,5.46,0,0,0,6.5,12Z\"/>\n",
              "  </svg>\n",
              "    </button>\n",
              "    <script>\n",
              "      (() => {\n",
              "      const buttonEl =\n",
              "        document.querySelector('#id_ed3a1f13-790b-4a03-b0ad-85296dba1d26 button.colab-df-generate');\n",
              "      buttonEl.style.display =\n",
              "        google.colab.kernel.accessAllowed ? 'block' : 'none';\n",
              "\n",
              "      buttonEl.onclick = () => {\n",
              "        google.colab.notebook.generateWithVariable('df');\n",
              "      }\n",
              "      })();\n",
              "    </script>\n",
              "  </div>\n",
              "\n",
              "    </div>\n",
              "  </div>\n"
            ],
            "application/vnd.google.colaboratory.intrinsic+json": {
              "type": "dataframe",
              "variable_name": "df",
              "summary": "{\n  \"name\": \"df\",\n  \"rows\": 1,\n  \"fields\": [\n    {\n      \"column\": \"url\",\n      \"properties\": {\n        \"dtype\": \"string\",\n        \"num_unique_values\": 1,\n        \"samples\": [\n          \"https://www.zenga.hu/ingatlan/elado-csaladi-haz-babolna/8631699?page=2&pos=1&cr=31\"\n        ],\n        \"semantic_type\": \"\",\n        \"description\": \"\"\n      }\n    },\n    {\n      \"column\": \"text\",\n      \"properties\": {\n        \"dtype\": \"string\",\n        \"num_unique_values\": 1,\n        \"samples\": [\n          \"ENNYI\\u00c9RT ITT CSAK LAK\\u00c1ST KAPSZ,VEL\\u00dcNK H\\u00c1ZAD LESZ!FEDETT, T\\u00c9RK\\u00d6VEZETT G\\u00c9PKOCSI BE\\u00c1LL\\u00d3TERASZ, KERT, KL\\u00cdMAIsmerd meg B\\u00e1bolna \\u00faj utc\\u00e1j\\u00e1ban \\u00e9p\\u00fcl\\u0151 korszer\\u0171 otthonodat! A magas m\\u0171szaki tartalom \\u00e9s\\u00a0\\u00a0a praktikus \\u00e9lett\\u00e9r t\\u00f6k\\u00e9letes harm\\u00f3ni\\u00e1j\\u00e1t k\\u00edn\\u00e1lja, ahol minden egyedi ig\\u00e9nyedre figyelmet ford\\u00edtunk. K\\u00e9rj b\\u00e1rmit, mindenre lesz megold\\u00e1sunk.MIT TARTALMAZ A F\\u0170T\\u00c9SK\\u00c9SZ \\u00c1R?-63 m\\u00b2 lak\\u00f3t\\u00e9r, amit j\\u00f3l \\u00e1tgondolt elrendez\\u00e9s tesz \\u00e9lhet\\u0151v\\u00e9.-10 m\\u00b2 fedett terasz, ahol minden reggel \\u00faj \\u00e9lm\\u00e9ny.-550 m\\u00b2 priv\\u00e1t kert, ami t\\u00f6k\\u00e9letes a szabadt\\u00e9ri programokhoz.-T\\u00e9rk\\u00f6vezett, r\\u00e9szben fedett g\\u00e9pkocsibe\\u00e1ll\\u00f3 \\u00e9s t\\u00e9rk\\u00f6vezett j\\u00e1rda a maxim\\u00e1lis k\\u00e9nyelem\\u00e9rt.-K\\u00e9t szoba + nappali, hogy mindenki megtal\\u00e1lja a hely\\u00e9t.-1 db h\\u0171t\\u0151-f\\u0171t\\u0151 kl\\u00edma a nappaliban a kellemes h\\u0151m\\u00e9rs\\u00e9klet\\u00e9rt.-Tervez\\u00e9s, enged\\u00e9lyez\\u00e9si elj\\u00e1r\\u00e1s.F\\u0150BB M\\u0170SZAKI TARTALOM:-F\\u0151falak 30 cm, k\\u00f6zfalak 10 cm vastags\\u00e1g\\u00fa t\\u00e9gl\\u00e1b\\u00f3l.-20 cm szigetel\\u00e9s-Ker\\u00e1mia cser\\u00e9pfed\\u00e9s, sz\\u00ednazonos b\\u00e1dogoz\\u00e1ssal \\u00e9s ereszcsatorn\\u00e1val.-Feh\\u00e9r sz\\u00edn\\u0171 3 r\\u00e9teg\\u0171 \\u00fcvegez\\u00e9ssel ell\\u00e1tott m\\u0171anyag ny\\u00edl\\u00e1sz\\u00e1r\\u00f3k red\\u0151nyel\\u0151k\\u00e9sz\\u00edt\\u00e9ssel.-Padl\\u00f3f\\u0171t\\u00e9s g\\u00e1zkaz\\u00e1nnal.V\\u00c1LASZTHAT\\u00d3 OPCI\\u00d3K:-Loxone okosotthon rendszer.-Napelem, elektromos aut\\u00f3t\\u00f6lt\\u0151 telep\\u00edt\\u00e9s.-Kert -\\u00e9s ker\\u00edt\\u00e9s\\u00e9p\\u00edt\\u00e9s.-Kulcsrak\\u00e9sz kivitelez\\u00e9s ig\\u00e9nyeid szerint.MI\\u00c9RT K\\u00d6LT\\u00d6ZZ B\\u00c1BOLN\\u00c1RA?Kisv\\u00e1rosias hangulata t\\u00f6k\\u00e9letes azoknak, akik csendes, bar\\u00e1ts\\u00e1gos lak\\u00f3helyet keresnek. A sok park, z\\u00f6ld \\u00f6vezet \\u00e9s j\\u00f3l kialak\\u00edtott utc\\u00e1k igazi otthonos \\u00e9rz\\u00e9st teremtenek, a telep\\u00fcl\\u00e9s k\\u00f6z\\u00f6ss\\u00e9ge t\\u00e1mogat\\u00f3 \\u00e9s \\u00f6sszetart\\u00f3, csal\\u00e1dbar\\u00e1t szolg\\u00e1ltat\\u00e1sok \\u00e9s programok v\\u00e1rj\\u00e1k az itt \\u00e9l\\u0151ket. A k\\u00f6zleked\\u00e9s az infrastrukt\\u00fara kiv\\u00e1l\\u00f3, itt minden szolg\\u00e1ltat\\u00e1s karny\\u00fajt\\u00e1snyira tal\\u00e1lhat\\u00f3.A szerz\\u0151d\\u00e9sk\\u00f6t\\u00e9st\\u0151l a hitelk\\u00f6zvet\\u00edt\\u00e9sen \\u00e1t a birtokbaad\\u00e1sig mindenben seg\\u00edt\\u00fcnk.V\\u00e1laszd B\\u00e1boln\\u00e1t, ha fontos a nyugodt \\u00e9let, a min\\u0151s\\u00e9gi lak\\u00f3k\\u00f6rnyezet a kiv\\u00e1l\\u00f3 lok\\u00e1ci\\u00f3 \\u00e9s a modern lehet\\u0151s\\u00e9gek kombin\\u00e1ci\\u00f3ja!H\\u00cdVJ! MUTATOM!\"\n        ],\n        \"semantic_type\": \"\",\n        \"description\": \"\"\n      }\n    }\n  ]\n}"
            }
          },
          "metadata": {},
          "execution_count": 54
        }
      ]
    },
    {
      "cell_type": "code",
      "source": [
        "df.text[0]"
      ],
      "metadata": {
        "colab": {
          "base_uri": "https://localhost:8080/",
          "height": 127
        },
        "id": "BLC2IM-1CIPl",
        "outputId": "93b8bf73-150f-4c38-cea5-92f82ad992dd"
      },
      "execution_count": 55,
      "outputs": [
        {
          "output_type": "execute_result",
          "data": {
            "text/plain": [
              "'ENNYIÉRT ITT CSAK LAKÁST KAPSZ,VELÜNK HÁZAD LESZ!FEDETT, TÉRKÖVEZETT GÉPKOCSI BEÁLLÓTERASZ, KERT, KLÍMAIsmerd meg Bábolna új utcájában épülő korszerű otthonodat! A magas műszaki tartalom és\\xa0\\xa0a praktikus élettér tökéletes harmóniáját kínálja, ahol minden egyedi igényedre figyelmet fordítunk. Kérj bármit, mindenre lesz megoldásunk.MIT TARTALMAZ A FŰTÉSKÉSZ ÁR?-63 m² lakótér, amit jól átgondolt elrendezés tesz élhetővé.-10 m² fedett terasz, ahol minden reggel új élmény.-550 m² privát kert, ami tökéletes a szabadtéri programokhoz.-Térkövezett, részben fedett gépkocsibeálló és térkövezett járda a maximális kényelemért.-Két szoba + nappali, hogy mindenki megtalálja a helyét.-1 db hűtő-fűtő klíma a nappaliban a kellemes hőmérsékletért.-Tervezés, engedélyezési eljárás.FŐBB MŰSZAKI TARTALOM:-Főfalak 30 cm, közfalak 10 cm vastagságú téglából.-20 cm szigetelés-Kerámia cserépfedés, színazonos bádogozással és ereszcsatornával.-Fehér színű 3 rétegű üvegezéssel ellátott műanyag nyílászárók redőnyelőkészítéssel.-Padlófűtés gázkazánnal.VÁLASZTHATÓ OPCIÓK:-Loxone okosotthon rendszer.-Napelem, elektromos autótöltő telepítés.-Kert -és kerítésépítés.-Kulcsrakész kivitelezés igényeid szerint.MIÉRT KÖLTÖZZ BÁBOLNÁRA?Kisvárosias hangulata tökéletes azoknak, akik csendes, barátságos lakóhelyet keresnek. A sok park, zöld övezet és jól kialakított utcák igazi otthonos érzést teremtenek, a település közössége támogató és összetartó, családbarát szolgáltatások és programok várják az itt élőket. A közlekedés az infrastruktúra kiváló, itt minden szolgáltatás karnyújtásnyira található.A szerződéskötéstől a hitelközvetítésen át a birtokbaadásig mindenben segítünk.Válaszd Bábolnát, ha fontos a nyugodt élet, a minőségi lakókörnyezet a kiváló lokáció és a modern lehetőségek kombinációja!HÍVJ! MUTATOM!'"
            ],
            "application/vnd.google.colaboratory.intrinsic+json": {
              "type": "string"
            }
          },
          "metadata": {},
          "execution_count": 55
        }
      ]
    },
    {
      "cell_type": "code",
      "source": [
        "from google.colab import userdata\n",
        "key=userdata.get('OpenAi_API')"
      ],
      "metadata": {
        "id": "kyJt3WXLyKQH"
      },
      "execution_count": 43,
      "outputs": []
    },
    {
      "cell_type": "code",
      "source": [
        "szoveg=df.text[0]"
      ],
      "metadata": {
        "id": "PcI7PbyRFSG9"
      },
      "execution_count": 56,
      "outputs": []
    },
    {
      "cell_type": "code",
      "source": [
        "prompt_message=[\n",
        "            {\"role\": \"system\",\n",
        "             \"content\": f'''\n",
        "                    Te egy ingatlanhirdetés-elemző nyelvész vagy, komoly ingatlanhirdetési tapasztalattal.\n",
        "                    Célod, hogy az ingatlan hirdetések tökéletesek legyenek ezért kidolgoztál egy hirdetés értékelési szempontrendszert.\n",
        "                    Ezek a szempontok alapján tökéletes értékelést tudsz adni az adott hirdetés szövege alapján.\n",
        "                    A szempontok:\n",
        "                        1. Érthetőség\n",
        "                        2. Részletesség / információtartalom\n",
        "                        3. Szerkezet, logikai felépítés\n",
        "                        4. Célcsoport megszólítása\n",
        "                        5. Stílus és nyelvhelyesség\n",
        "                        6. Előnyök kiemelése\n",
        "                        7. Negatívumok őszinte kezelése\n",
        "                        8. Eladásra ösztönzés'''},\n",
        "            {\"role\": \"user\",\n",
        "             \"content\": f\"\"\"\n",
        "                            Értékeld az alábbi ingatlanhirdetés szöveget az alábbi szempontok alapján 1–5-ig,\n",
        "                            és hozz létre egy összesített eredményt az 1-8 közötti értékek átlagaként ez legyen a 9. Összesítés :\n",
        "\n",
        "                            1. Érthetőség\n",
        "                            2. Részletesség\n",
        "                            3. Szerkezet\n",
        "                            4. Célcsoport megszólítása\n",
        "                            5. Stílus és nyelvhelyesség\n",
        "                            6. Előnyök kiemelése\n",
        "                            7. Negatívumok őszinte kezelése\n",
        "                            8. Vételre ösztönzés\n",
        "                            9. Összesítés\n",
        "\n",
        "Az értékelést json formában add vissza!\n",
        "\n",
        "SZÖVEG:\n",
        "{szoveg}\n",
        "            \"\"\"}\n",
        "        ]\n"
      ],
      "metadata": {
        "id": "BRVaxSp1DbO0"
      },
      "execution_count": 66,
      "outputs": []
    },
    {
      "cell_type": "code",
      "source": [
        "prompt_message\n"
      ],
      "metadata": {
        "colab": {
          "base_uri": "https://localhost:8080/"
        },
        "id": "3QAd5oiRFVZd",
        "outputId": "a714d985-e3c3-4596-d17e-e9fadea315a4"
      },
      "execution_count": 68,
      "outputs": [
        {
          "output_type": "execute_result",
          "data": {
            "text/plain": [
              "[{'role': 'system',\n",
              "  'content': '\\n                    Te egy ingatlanhirdetés-elemző nyelvész vagy, komoly ingatlanhirdetési tapasztalattal.\\n                    Célod, hogy az ingatlan hirdetések tökéletesek legyenek ezért kidolgoztál egy hirdetés értékelési szempontrendszert. \\n                    Ezek a szempontok alapján tökéletes értékelést tudsz adni az adott hirdetés szövege alapján. \\n                    A szempontok:\\n                        1. Érthetőség\\n                        2. Részletesség / információtartalom\\n                        3. Szerkezet, logikai felépítés\\n                        4. Célcsoport megszólítása\\n                        5. Stílus és nyelvhelyesség\\n                        6. Előnyök kiemelése\\n                        7. Negatívumok őszinte kezelése\\n                        8. Eladásra ösztönzés'},\n",
              " {'role': 'user',\n",
              "  'content': '\\n                            Értékeld az alábbi ingatlanhirdetés szöveget az alábbi szempontok alapján 1–5-ig, \\n                            és hozz létre egy összesített eredményt az 1-8 közötti értékek átlagaként ez legyen a 9. Összesítés :\\n\\n                            1. Érthetőség\\n                            2. Részletesség\\n                            3. Szerkezet\\n                            4. Célcsoport megszólítása\\n                            5. Stílus és nyelvhelyesség\\n                            6. Előnyök kiemelése\\n                            7. Negatívumok őszinte kezelése\\n                            8. Vételre ösztönzés\\n                            9. Összesítés\\n\\nAz értékelést json formában add vissza! \\n\\nSZÖVEG:\\nENNYIÉRT ITT CSAK LAKÁST KAPSZ,VELÜNK HÁZAD LESZ!FEDETT, TÉRKÖVEZETT GÉPKOCSI BEÁLLÓTERASZ, KERT, KLÍMAIsmerd meg Bábolna új utcájában épülő korszerű otthonodat! A magas műszaki tartalom és\\xa0\\xa0a praktikus élettér tökéletes harmóniáját kínálja, ahol minden egyedi igényedre figyelmet fordítunk. Kérj bármit, mindenre lesz megoldásunk.MIT TARTALMAZ A FŰTÉSKÉSZ ÁR?-63 m² lakótér, amit jól átgondolt elrendezés tesz élhetővé.-10 m² fedett terasz, ahol minden reggel új élmény.-550 m² privát kert, ami tökéletes a szabadtéri programokhoz.-Térkövezett, részben fedett gépkocsibeálló és térkövezett járda a maximális kényelemért.-Két szoba + nappali, hogy mindenki megtalálja a helyét.-1 db hűtő-fűtő klíma a nappaliban a kellemes hőmérsékletért.-Tervezés, engedélyezési eljárás.FŐBB MŰSZAKI TARTALOM:-Főfalak 30 cm, közfalak 10 cm vastagságú téglából.-20 cm szigetelés-Kerámia cserépfedés, színazonos bádogozással és ereszcsatornával.-Fehér színű 3 rétegű üvegezéssel ellátott műanyag nyílászárók redőnyelőkészítéssel.-Padlófűtés gázkazánnal.VÁLASZTHATÓ OPCIÓK:-Loxone okosotthon rendszer.-Napelem, elektromos autótöltő telepítés.-Kert -és kerítésépítés.-Kulcsrakész kivitelezés igényeid szerint.MIÉRT KÖLTÖZZ BÁBOLNÁRA?Kisvárosias hangulata tökéletes azoknak, akik csendes, barátságos lakóhelyet keresnek. A sok park, zöld övezet és jól kialakított utcák igazi otthonos érzést teremtenek, a település közössége támogató és összetartó, családbarát szolgáltatások és programok várják az itt élőket. A közlekedés az infrastruktúra kiváló, itt minden szolgáltatás karnyújtásnyira található.A szerződéskötéstől a hitelközvetítésen át a birtokbaadásig mindenben segítünk.Válaszd Bábolnát, ha fontos a nyugodt élet, a minőségi lakókörnyezet a kiváló lokáció és a modern lehetőségek kombinációja!HÍVJ! MUTATOM!\\n            '}]"
            ]
          },
          "metadata": {},
          "execution_count": 68
        }
      ]
    },
    {
      "cell_type": "code",
      "source": [
        "from openai import OpenAI\n",
        "\n",
        "client = OpenAI(api_key=key)\n",
        "\n",
        "response = client.chat.completions.create(\n",
        "    model=\"gpt-3.5-turbo\",\n",
        "    messages=prompt_message,\n",
        "    temperature=0.2,\n",
        "    max_tokens=200\n",
        ")\n",
        "\n",
        "print(response.choices[0].message.content)\n"
      ],
      "metadata": {
        "colab": {
          "base_uri": "https://localhost:8080/"
        },
        "id": "nkJtd6v5-BA_",
        "outputId": "dfc08968-b793-4965-8154-9da03eeb3b85"
      },
      "execution_count": 67,
      "outputs": [
        {
          "output_type": "stream",
          "name": "stdout",
          "text": [
            "{\n",
            "    \"értékelés\": {\n",
            "        \"1. Érthetőség\": 3,\n",
            "        \"2. Részletesség\": 4,\n",
            "        \"3. Szerkezet\": 3,\n",
            "        \"4. Célcsoport megszólítása\": 4,\n",
            "        \"5. Stílus és nyelvhelyesség\": 2,\n",
            "        \"6. Előnyök kiemelése\": 5,\n",
            "        \"7. Negatívumok őszinte kezelése\": 3,\n",
            "        \"8. Vételre ösztönzés\": 4,\n",
            "        \"9. Összesítés\": 3.5\n",
            "    }\n",
            "}\n"
          ]
        }
      ]
    },
    {
      "cell_type": "code",
      "source": [
        "response.choices[0].message.content"
      ],
      "metadata": {
        "colab": {
          "base_uri": "https://localhost:8080/",
          "height": 72
        },
        "id": "lHbiezDEJRi8",
        "outputId": "ab622d7c-8387-4811-e05e-a83da31c889a"
      },
      "execution_count": 71,
      "outputs": [
        {
          "output_type": "execute_result",
          "data": {
            "text/plain": [
              "'{\\n    \"értékelés\": {\\n        \"1. Érthetőség\": 3,\\n        \"2. Részletesség\": 4,\\n        \"3. Szerkezet\": 3,\\n        \"4. Célcsoport megszólítása\": 4,\\n        \"5. Stílus és nyelvhelyesség\": 2,\\n        \"6. Előnyök kiemelése\": 5,\\n        \"7. Negatívumok őszinte kezelése\": 3,\\n        \"8. Vételre ösztönzés\": 4,\\n        \"9. Összesítés\": 3.5\\n    }\\n}'"
            ],
            "application/vnd.google.colaboratory.intrinsic+json": {
              "type": "string"
            }
          },
          "metadata": {},
          "execution_count": 71
        }
      ]
    },
    {
      "cell_type": "code",
      "source": [
        "resp_token=response.choices[0]"
      ],
      "metadata": {
        "id": "3ABCp1DULg8y"
      },
      "execution_count": null,
      "outputs": []
    },
    {
      "cell_type": "code",
      "source": [
        "import json\n",
        "out_dict= json.loads(response.choices[0].message.content)"
      ],
      "metadata": {
        "id": "v_GUkoUeMu_B"
      },
      "execution_count": 73,
      "outputs": []
    },
    {
      "cell_type": "code",
      "source": [
        "out_dict"
      ],
      "metadata": {
        "colab": {
          "base_uri": "https://localhost:8080/"
        },
        "id": "93SULq_5M9tH",
        "outputId": "dd562da7-ead3-453f-ec22-f90b9ec0d8fc"
      },
      "execution_count": 74,
      "outputs": [
        {
          "output_type": "execute_result",
          "data": {
            "text/plain": [
              "{'értékelés': {'1. Érthetőség': 3,\n",
              "  '2. Részletesség': 4,\n",
              "  '3. Szerkezet': 3,\n",
              "  '4. Célcsoport megszólítása': 4,\n",
              "  '5. Stílus és nyelvhelyesség': 2,\n",
              "  '6. Előnyök kiemelése': 5,\n",
              "  '7. Negatívumok őszinte kezelése': 3,\n",
              "  '8. Vételre ösztönzés': 4,\n",
              "  '9. Összesítés': 3.5}}"
            ]
          },
          "metadata": {},
          "execution_count": 74
        }
      ]
    }
  ]
}